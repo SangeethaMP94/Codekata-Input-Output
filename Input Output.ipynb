{
 "cells": [
  {
   "cell_type": "markdown",
   "id": "2f531484-d4c9-47b3-a11a-90fb93c19c60",
   "metadata": {},
   "source": [
    "Write a code to get the input in the given format and print the output in the given format\n",
    "\n",
    "Input Description:\n",
    "To take an integer value\n",
    "\n",
    "Output Description:\n",
    "Print the integer value\n",
    "\n",
    "Sample Input :\n",
    "2\n",
    "Sample Output :\n",
    "2"
   ]
  },
  {
   "cell_type": "code",
   "execution_count": 1,
   "id": "50bbac3b-2bc1-407f-8132-7279f640d991",
   "metadata": {},
   "outputs": [
    {
     "name": "stdin",
     "output_type": "stream",
     "text": [
      " 2\n"
     ]
    },
    {
     "name": "stdout",
     "output_type": "stream",
     "text": [
      "2\n"
     ]
    }
   ],
   "source": [
    "a = int(input())\n",
    "print(a)"
   ]
  },
  {
   "cell_type": "markdown",
   "id": "9c741bfb-105c-4fea-8deb-71955ff3052d",
   "metadata": {},
   "source": [
    "Write a code to get the input in the given format and print the output in the given format\n",
    "\n",
    "Input Description:\n",
    "A single line contains integers separated by space\n",
    "\n",
    "Output Description:\n",
    "Print the integer list of integers separated by space\n",
    "\n",
    "Sample Input :\n",
    "2 3 4 5 6 7 8\n",
    "Sample Output :\n",
    "2 3 4 5 6 7 8-"
   ]
  },
  {
   "cell_type": "code",
   "execution_count": 2,
   "id": "67210e62-918a-40c3-bc9f-949eb7d6b04e",
   "metadata": {},
   "outputs": [
    {
     "name": "stdin",
     "output_type": "stream",
     "text": [
      " 2 3 4 5 6 7 8\n"
     ]
    },
    {
     "name": "stdout",
     "output_type": "stream",
     "text": [
      "2 3 4 5 6 7 8\n"
     ]
    }
   ],
   "source": [
    "b = input()\n",
    "print(b)"
   ]
  },
  {
   "cell_type": "markdown",
   "id": "10b7bab3-bd9c-4315-8167-dbf59e1f9b9a",
   "metadata": {},
   "source": [
    "Write a code to get the input in the given format and print the output in the given format.\n",
    "\n",
    "Input Description:\n",
    "First-line indicates two integers which are the size of array and 'K' value. Second-line indicates an integer contains elements of an array.\n",
    "\n",
    "Output Description:\n",
    "Print the taken input in the same format.\n",
    "\n",
    "Sample Input :\n",
    "5 3\n",
    "1 2 3 4 5\n",
    "Sample Output :\n",
    "5 3\n",
    "1 2 3 4 5"
   ]
  },
  {
   "cell_type": "code",
   "execution_count": 3,
   "id": "ba8d9132-cb99-4a1c-97eb-988435ef702d",
   "metadata": {},
   "outputs": [
    {
     "name": "stdin",
     "output_type": "stream",
     "text": [
      " 5 3\n",
      " 1 2 3 4 5\n"
     ]
    },
    {
     "name": "stdout",
     "output_type": "stream",
     "text": [
      "5 3\n",
      "1 2 3 4 5\n"
     ]
    }
   ],
   "source": [
    "s = list(map(int,input().split()))\n",
    "m = list(map(int,input().split()))\n",
    "print(*s)\n",
    "print(*m)"
   ]
  },
  {
   "cell_type": "markdown",
   "id": "c9b06ee6-982a-4cd0-b8f4-a9c5751f7711",
   "metadata": {},
   "source": [
    "Write a code to get the input in the given format and print the output in the given format\n",
    "\n",
    "Input Description:\n",
    "First-line indicates two integers separated by space. Second-line indicates two integers separated by space. Third-line indicates two integers separated by space.\n",
    "\n",
    "Output Description:\n",
    "Print the input in the same format.\n",
    "\n",
    "Sample Input :\n",
    "2 4\n",
    "2 4\n",
    "2 4\n",
    "Sample Output :\n",
    "2 4\n",
    "2 4\n",
    "2 4"
   ]
  },
  {
   "cell_type": "code",
   "execution_count": 4,
   "id": "c4b9f5ac-90c4-4ee2-bc32-da3c89acb49d",
   "metadata": {},
   "outputs": [
    {
     "name": "stdin",
     "output_type": "stream",
     "text": [
      " 2 4\n",
      " 2 4\n",
      " 2 4\n"
     ]
    },
    {
     "name": "stdout",
     "output_type": "stream",
     "text": [
      "2 4\n",
      "2 4\n",
      "2 4\n"
     ]
    }
   ],
   "source": [
    "a = []\n",
    "i = 0\n",
    "while i<3:\n",
    "  a.append(input())\n",
    "  i=i+1\n",
    "print(*a, sep = \"\\n\")"
   ]
  },
  {
   "cell_type": "markdown",
   "id": "a97b937f-03b6-4996-8c63-8e7812623be8",
   "metadata": {},
   "source": [
    "Write a code to get the input in the given format and print the output in the given format\n",
    "\n",
    "Input Description:\n",
    "Three integers are given in line by line.\n",
    "\n",
    "Output Description:\n",
    "Print the integers in a single line separate by space.\n",
    "\n",
    "Sample Input :\n",
    "2\n",
    "4\n",
    "5\n",
    "Sample Output :\n",
    "2 4 5"
   ]
  },
  {
   "cell_type": "code",
   "execution_count": 5,
   "id": "2203eb29-1108-46b7-922c-e504923b47e9",
   "metadata": {},
   "outputs": [
    {
     "name": "stdin",
     "output_type": "stream",
     "text": [
      " 2\n",
      " 4\n",
      " 5\n"
     ]
    },
    {
     "name": "stdout",
     "output_type": "stream",
     "text": [
      "2 4 5\n"
     ]
    }
   ],
   "source": [
    "a = []\n",
    "i = 0\n",
    "while i<3:\n",
    "  a.append(input())\n",
    "  i=i+1\n",
    "print(*a)"
   ]
  },
  {
   "cell_type": "markdown",
   "id": "e96fc56d-c82d-48e9-a4cd-99230bcbde5a",
   "metadata": {},
   "source": [
    "Write a code to get the input in the given format and print the output in the given format\r\n",
    "\r\n",
    "Input Description:\r\n",
    "First-line indicates two integers separated by space. Second-line indicates three integers separated by space. Third-line indicates three integers separated by space\r\n",
    "\r\n",
    "Output Description:\r\n",
    "Print the input in the same format.\r\n",
    "\r\n",
    "Sample Input :\r\n",
    "2 5\r\n",
    "2 5 6\r\n",
    "2 4 5\r\n",
    "Sample Output :\r\n",
    "2 5\r\n",
    "2 5 6\r\n",
    "2 4 5"
   ]
  },
  {
   "cell_type": "code",
   "execution_count": 6,
   "id": "a268a264-a876-4375-bb4b-96a817384866",
   "metadata": {},
   "outputs": [
    {
     "name": "stdin",
     "output_type": "stream",
     "text": [
      " 2 5\n",
      " 2 5 6 \n",
      " 2 4 5\n"
     ]
    },
    {
     "name": "stdout",
     "output_type": "stream",
     "text": [
      "2 5\n",
      "2 5 6 \n",
      "2 4 5\n"
     ]
    }
   ],
   "source": [
    "a = []\n",
    "i = 0\n",
    "while i<3:\n",
    "  a.append(input())\n",
    "  i=i+1\n",
    "print(*a, sep = \"\\n\")"
   ]
  },
  {
   "cell_type": "markdown",
   "id": "25e767ea-3683-4e43-82e0-1862a49501bd",
   "metadata": {},
   "source": [
    "Write a code to get the input in the given format and print the output in the given format\n",
    "\n",
    "Input Description:\n",
    "A single line contains a string.\n",
    "\n",
    "Output Description:\n",
    "Print the characters in a string separated by space.\n",
    "\n",
    "Sample Input :\n",
    "guvi\n",
    "Sample Output :\n",
    "g u v i"
   ]
  },
  {
   "cell_type": "code",
   "execution_count": 7,
   "id": "0cead995-4fc5-468c-b41e-593cea53e872",
   "metadata": {},
   "outputs": [
    {
     "name": "stdin",
     "output_type": "stream",
     "text": [
      " guvi\n"
     ]
    },
    {
     "name": "stdout",
     "output_type": "stream",
     "text": [
      "g u v i\n"
     ]
    }
   ],
   "source": [
    "i = input()\n",
    "print(*i)"
   ]
  },
  {
   "cell_type": "markdown",
   "id": "82611d05-a9d0-4602-a91e-b9a512262738",
   "metadata": {},
   "source": [
    "Write a code to get the input in the given format and print the output in the given format.\r\n",
    "\r\n",
    "Input Description:\r\n",
    "A single line contains three float values separated by space.\r\n",
    "\r\n",
    "Output Description:\r\n",
    "Print the float value separated by line.\r\n",
    "\r\n",
    "Sample Input :\r\n",
    "2.3 4.5 7.8\r\n",
    "Sample Output :\r\n",
    "2.3\r\n",
    "4.5\r\n",
    "7.8"
   ]
  },
  {
   "cell_type": "code",
   "execution_count": 8,
   "id": "0902e91b-5777-43be-a788-3105c6d87cfe",
   "metadata": {},
   "outputs": [
    {
     "name": "stdin",
     "output_type": "stream",
     "text": [
      " 2.3 4.5 7.8\n"
     ]
    },
    {
     "name": "stdout",
     "output_type": "stream",
     "text": [
      "2.3\n",
      "4.5\n",
      "7.8\n"
     ]
    }
   ],
   "source": [
    "a = input().split()\n",
    "print(*a, sep = \"\\n\")"
   ]
  },
  {
   "cell_type": "markdown",
   "id": "ae989583-d9f6-41af-a263-9f0853e4b6ed",
   "metadata": {},
   "source": [
    "Write a code to get the input in the given format and print the output in the given format.\n",
    "\n",
    "Input Description:\n",
    "A single line contains a string.\n",
    "\n",
    "Output Description:\n",
    "Print the characters in a string separated by line.\n",
    "\n",
    "Sample Input :\n",
    "guvigeek\n",
    "Sample Output :\n",
    "g\n",
    "u\n",
    "v\n",
    "i\n",
    "g\n",
    "e\n",
    "e\n",
    "k"
   ]
  },
  {
   "cell_type": "code",
   "execution_count": 9,
   "id": "573f9d02-4553-4bdd-98ef-7d69d5f5470a",
   "metadata": {},
   "outputs": [
    {
     "name": "stdin",
     "output_type": "stream",
     "text": [
      " guvigeek\n"
     ]
    },
    {
     "name": "stdout",
     "output_type": "stream",
     "text": [
      "g\n",
      "u\n",
      "v\n",
      "i\n",
      "g\n",
      "e\n",
      "e\n",
      "k\n"
     ]
    }
   ],
   "source": [
    "a = input()\n",
    "print(*a, sep =\"\\n\")"
   ]
  },
  {
   "cell_type": "markdown",
   "id": "2975be11-66af-4887-a4a6-70d327edbdda",
   "metadata": {},
   "source": [
    "Write a code to get the input in the given format and print the output in the given format.\n",
    "\n",
    "Input Description:\n",
    "A single line contains a string.\n",
    "\n",
    "Output Description:\n",
    "Print the characters in a string separated by comma.\n",
    "\n",
    "Sample Input :\n",
    "guvi\n",
    "Sample Output :\n",
    "g,u,v,i"
   ]
  },
  {
   "cell_type": "code",
   "execution_count": 10,
   "id": "bf03d0fe-075a-416b-ac2d-75eb7be71db1",
   "metadata": {},
   "outputs": [
    {
     "name": "stdin",
     "output_type": "stream",
     "text": [
      " guvi\n"
     ]
    },
    {
     "name": "stdout",
     "output_type": "stream",
     "text": [
      "g,u,v,i\n"
     ]
    }
   ],
   "source": [
    "a = input()\n",
    "print(*a, sep =\",\")"
   ]
  }
 ],
 "metadata": {
  "kernelspec": {
   "display_name": "Python 3 (ipykernel)",
   "language": "python",
   "name": "python3"
  },
  "language_info": {
   "codemirror_mode": {
    "name": "ipython",
    "version": 3
   },
   "file_extension": ".py",
   "mimetype": "text/x-python",
   "name": "python",
   "nbconvert_exporter": "python",
   "pygments_lexer": "ipython3",
   "version": "3.10.0"
  }
 },
 "nbformat": 4,
 "nbformat_minor": 5
}
